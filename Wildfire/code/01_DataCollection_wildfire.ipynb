{
 "cells": [
  {
   "cell_type": "markdown",
   "metadata": {},
   "source": [
    "This notebook collection data 20,000 posts from twitter.com regarding wildfire in california. Center location at Fresno, CA,  radius 500 miles."
   ]
  },
  {
   "cell_type": "code",
   "execution_count": 1,
   "metadata": {},
   "outputs": [],
   "source": [
    "# Code adapted from group member Juhee Sung-Schenck\n",
    "# This program uses \n",
    "#!pip install GetOldTweets3"
   ]
  },
  {
   "cell_type": "code",
   "execution_count": 1,
   "metadata": {},
   "outputs": [],
   "source": [
    "import GetOldTweets3 as got\n",
    "import pandas as pd"
   ]
  },
  {
   "cell_type": "code",
   "execution_count": 2,
   "metadata": {},
   "outputs": [],
   "source": [
    "\n",
    "\n",
    "# create a function to get tweets from Twitter with GetOldTweets3\n",
    "\n",
    "def get_old_tweets(hashtag, since, until, center = [], radius = '150km'):\n",
    "   \n",
    "    # create an empty list to collect the tweets\n",
    "    \n",
    "    all_tweets = []\n",
    "    \n",
    "    # set search criteria: hastag - keyword, store emoji in unicode, from (since) to (until), in location (near), within distance (radius)\n",
    "    \n",
    "    tweetCriteria = got.manager.TweetCriteria()\\\n",
    "                               .setQuerySearch(hashtag)\\\n",
    "                               .setTopTweets(False)\\\n",
    "                               .setEmoji('unicode')\\\n",
    "                               .setSince(since)\\\n",
    "                               .setUntil(until)\\\n",
    "                               .setNear(center)\\\n",
    "                               .setWithin(radius)\\\n",
    "                               .setLang('en')\\\n",
    "                               .setMaxTweets(10_000)\n",
    " \n",
    "    # for loop to iterate each tweet to create a dictionary to store it in a dataframe\n",
    "    for tweet in got.manager.TweetManager.getTweets(tweetCriteria):\n",
    "        tweets = {}\n",
    "        tweets['id'] = tweet.id\n",
    "        tweets['text'] = tweet.text\n",
    "        tweets['keyword'] = tweet.hashtags\n",
    "        tweets['user_name'] = tweet.username\n",
    "        tweets['date'] = tweet.date\n",
    "        tweets['location'] = tweet.geo\n",
    "\n",
    "        all_tweets.append(tweets)\n",
    "\n",
    "    df = pd.DataFrame(all_tweets)\n",
    "    \n",
    "    return df"
   ]
  },
  {
   "cell_type": "code",
   "execution_count": 3,
   "metadata": {},
   "outputs": [],
   "source": [
    "# get tweets and assign the dataframe\n",
    "\n",
    "df = get_old_tweets(hashtag = 'wildwire', since = '2019-09-15', until = '2020-09-15', center = ['Fresno'], radius='500mi')"
   ]
  },
  {
   "cell_type": "code",
   "execution_count": 4,
   "metadata": {},
   "outputs": [],
   "source": [
    "df.to_csv('../data/wildfire_new.csv', index=False)"
   ]
  },
  {
   "cell_type": "code",
   "execution_count": 3,
   "metadata": {},
   "outputs": [],
   "source": [
    "# No keyword search and no fire season. get tweets and assign the dataframe\n",
    "# Has to quit notebook and restart to run this line. Due to some limitations from GetOldTweets3.\n",
    "\n",
    "df2 = get_old_tweets(hashtag = '', since = '2020-01-01', until = '2020-01-10', center = ['Fresno'], radius='500mi')"
   ]
  },
  {
   "cell_type": "code",
   "execution_count": 5,
   "metadata": {},
   "outputs": [],
   "source": [
    "df2.to_csv('../data/no_wildfire_new.csv', index=False)"
   ]
  },
  {
   "cell_type": "code",
   "execution_count": null,
   "metadata": {},
   "outputs": [],
   "source": []
  }
 ],
 "metadata": {
  "kernelspec": {
   "display_name": "Python 3",
   "language": "python",
   "name": "python3"
  },
  "language_info": {
   "codemirror_mode": {
    "name": "ipython",
    "version": 3
   },
   "file_extension": ".py",
   "mimetype": "text/x-python",
   "name": "python",
   "nbconvert_exporter": "python",
   "pygments_lexer": "ipython3",
   "version": "3.7.7"
  }
 },
 "nbformat": 4,
 "nbformat_minor": 4
}
