{
 "cells": [
  {
   "cell_type": "markdown",
   "metadata": {},
   "source": [
    "This notebook drops any missing values and save to a new csv file\n",
    "This code is adapted from group member Juhee Sung-Schenck "
   ]
  },
  {
   "cell_type": "code",
   "execution_count": 1,
   "metadata": {},
   "outputs": [],
   "source": [
    "# import libraries\n",
    "\n",
    "import pandas as pd\n",
    "import numpy as np\n",
    "import string as str"
   ]
  },
  {
   "cell_type": "code",
   "execution_count": 2,
   "metadata": {},
   "outputs": [
    {
     "data": {
      "text/html": [
       "<div>\n",
       "<style scoped>\n",
       "    .dataframe tbody tr th:only-of-type {\n",
       "        vertical-align: middle;\n",
       "    }\n",
       "\n",
       "    .dataframe tbody tr th {\n",
       "        vertical-align: top;\n",
       "    }\n",
       "\n",
       "    .dataframe thead th {\n",
       "        text-align: right;\n",
       "    }\n",
       "</style>\n",
       "<table border=\"1\" class=\"dataframe\">\n",
       "  <thead>\n",
       "    <tr style=\"text-align: right;\">\n",
       "      <th></th>\n",
       "      <th>id</th>\n",
       "      <th>text</th>\n",
       "      <th>user_name</th>\n",
       "      <th>date</th>\n",
       "      <th>lat</th>\n",
       "      <th>long</th>\n",
       "    </tr>\n",
       "  </thead>\n",
       "  <tbody>\n",
       "    <tr>\n",
       "      <th>19995</th>\n",
       "      <td>1215422901693730816</td>\n",
       "      <td>Kevin Hart says he wanted to support Dave Burd...</td>\n",
       "      <td>thesurfreport</td>\n",
       "      <td>2020-01-09 23:59:35+00:00</td>\n",
       "      <td>36.543496</td>\n",
       "      <td>-121.176274</td>\n",
       "    </tr>\n",
       "    <tr>\n",
       "      <th>19996</th>\n",
       "      <td>1215422901689765888</td>\n",
       "      <td>jshdhd</td>\n",
       "      <td>Shadyfishermann</td>\n",
       "      <td>2020-01-09 23:59:35+00:00</td>\n",
       "      <td>35.352956</td>\n",
       "      <td>-120.515419</td>\n",
       "    </tr>\n",
       "    <tr>\n",
       "      <th>19997</th>\n",
       "      <td>1215422901681192961</td>\n",
       "      <td>Are you learning work ni. Of course</td>\n",
       "      <td>hoy_man</td>\n",
       "      <td>2020-01-09 23:59:35+00:00</td>\n",
       "      <td>35.117108</td>\n",
       "      <td>-119.801041</td>\n",
       "    </tr>\n",
       "    <tr>\n",
       "      <th>19998</th>\n",
       "      <td>1215422901664604160</td>\n",
       "      <td>Ah mds KKKKKKKKKKK</td>\n",
       "      <td>viviacr1</td>\n",
       "      <td>2020-01-09 23:59:35+00:00</td>\n",
       "      <td>35.690766</td>\n",
       "      <td>-120.241575</td>\n",
       "    </tr>\n",
       "    <tr>\n",
       "      <th>19999</th>\n",
       "      <td>1215422901656215554</td>\n",
       "      <td>send him to the jail already</td>\n",
       "      <td>foolhao</td>\n",
       "      <td>2020-01-09 23:59:35+00:00</td>\n",
       "      <td>38.560907</td>\n",
       "      <td>-119.455975</td>\n",
       "    </tr>\n",
       "  </tbody>\n",
       "</table>\n",
       "</div>"
      ],
      "text/plain": [
       "                        id                                               text  \\\n",
       "19995  1215422901693730816  Kevin Hart says he wanted to support Dave Burd...   \n",
       "19996  1215422901689765888                                             jshdhd   \n",
       "19997  1215422901681192961                Are you learning work ni. Of course   \n",
       "19998  1215422901664604160                                 Ah mds KKKKKKKKKKK   \n",
       "19999  1215422901656215554                       send him to the jail already   \n",
       "\n",
       "             user_name                       date        lat        long  \n",
       "19995    thesurfreport  2020-01-09 23:59:35+00:00  36.543496 -121.176274  \n",
       "19996  Shadyfishermann  2020-01-09 23:59:35+00:00  35.352956 -120.515419  \n",
       "19997          hoy_man  2020-01-09 23:59:35+00:00  35.117108 -119.801041  \n",
       "19998         viviacr1  2020-01-09 23:59:35+00:00  35.690766 -120.241575  \n",
       "19999          foolhao  2020-01-09 23:59:35+00:00  38.560907 -119.455975  "
      ]
     },
     "execution_count": 2,
     "metadata": {},
     "output_type": "execute_result"
    }
   ],
   "source": [
    "\n",
    "df = pd.read_csv('../data/final.csv')\n",
    "\n",
    "df.tail()"
   ]
  },
  {
   "cell_type": "code",
   "execution_count": 3,
   "metadata": {},
   "outputs": [
    {
     "data": {
      "text/plain": [
       "id           0\n",
       "text         1\n",
       "user_name    0\n",
       "date         0\n",
       "lat          0\n",
       "long         0\n",
       "dtype: int64"
      ]
     },
     "execution_count": 3,
     "metadata": {},
     "output_type": "execute_result"
    }
   ],
   "source": [
    "df.isnull().sum()"
   ]
  },
  {
   "cell_type": "code",
   "execution_count": 4,
   "metadata": {},
   "outputs": [
    {
     "data": {
      "text/plain": [
       "(19999, 6)"
      ]
     },
     "execution_count": 4,
     "metadata": {},
     "output_type": "execute_result"
    }
   ],
   "source": [
    "# drop any rows without text\n",
    "\n",
    "df.dropna(axis = 0, inplace = True)\n",
    "\n",
    "# check if dropped as intended (20_000 - 232 = 10768)\n",
    "\n",
    "df.shape"
   ]
  },
  {
   "cell_type": "code",
   "execution_count": 5,
   "metadata": {},
   "outputs": [],
   "source": [
    "df.to_csv('../data/cleaned.csv', index = False)"
   ]
  }
 ],
 "metadata": {
  "kernelspec": {
   "display_name": "Python 3",
   "language": "python",
   "name": "python3"
  },
  "language_info": {
   "codemirror_mode": {
    "name": "ipython",
    "version": 3
   },
   "file_extension": ".py",
   "mimetype": "text/x-python",
   "name": "python",
   "nbconvert_exporter": "python",
   "pygments_lexer": "ipython3",
   "version": "3.7.7"
  }
 },
 "nbformat": 4,
 "nbformat_minor": 4
}
