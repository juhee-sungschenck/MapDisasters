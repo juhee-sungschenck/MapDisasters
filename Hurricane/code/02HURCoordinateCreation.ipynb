{
 "cells": [
  {
   "cell_type": "code",
   "execution_count": 29,
   "metadata": {},
   "outputs": [],
   "source": [
    "# import libraries\n",
    "\n",
    "import pandas as pd\n",
    "import numpy as np\n",
    "import math\n",
    "from numpy import random\n",
    "\n",
    "import plotly.express as px\n",
    "import plotly.offline as pyo\n",
    "import plotly.graph_objs as go"
   ]
  },
  {
   "cell_type": "code",
   "execution_count": 30,
   "metadata": {},
   "outputs": [],
   "source": [
    "fl = pd.read_csv('./data/florida_hurricane_oldtweets.csv', index_col = 0)\n",
    "lu = pd.read_csv('./data/louisiana_hurricane_oldtweets.csv', index_col = 0)\n",
    "pr = pd.read_csv('./data/puertorico_hurricane_oldtweets.csv', index_col = 0)\n",
    "sc = pd.read_csv('./data/southcarolina_hurricane_oldtweets.csv', index_col = 0)\n",
    "tx = pd.read_csv('./data/texas_hurricane_oldtweets.csv', index_col = 0)"
   ]
  },
  {
   "cell_type": "code",
   "execution_count": 40,
   "metadata": {},
   "outputs": [
    {
     "data": {
      "text/plain": [
       "User    0\n",
       "Text    6\n",
       "Date    0\n",
       "dtype: int64"
      ]
     },
     "execution_count": 40,
     "metadata": {},
     "output_type": "execute_result"
    }
   ],
   "source": [
    "fl.isnull().sum()"
   ]
  },
  {
   "cell_type": "code",
   "execution_count": 39,
   "metadata": {},
   "outputs": [],
   "source": [
    "fl = fl[['User', 'Text', 'Date']]"
   ]
  },
  {
   "cell_type": "code",
   "execution_count": 45,
   "metadata": {},
   "outputs": [
    {
     "name": "stderr",
     "output_type": "stream",
     "text": [
      "/Users/joseluisnavarrojr/opt/anaconda3/lib/python3.7/site-packages/ipykernel_launcher.py:1: SettingWithCopyWarning:\n",
      "\n",
      "\n",
      "A value is trying to be set on a copy of a slice from a DataFrame\n",
      "\n",
      "See the caveats in the documentation: https://pandas.pydata.org/pandas-docs/stable/user_guide/indexing.html#returning-a-view-versus-a-copy\n",
      "\n"
     ]
    }
   ],
   "source": [
    "fl.dropna(inplace = True)"
   ]
  },
  {
   "cell_type": "code",
   "execution_count": 53,
   "metadata": {},
   "outputs": [
    {
     "data": {
      "text/plain": [
       "User    0\n",
       "Text    0\n",
       "Date    0\n",
       "dtype: int64"
      ]
     },
     "execution_count": 53,
     "metadata": {},
     "output_type": "execute_result"
    }
   ],
   "source": [
    "lu.isnull().sum()"
   ]
  },
  {
   "cell_type": "code",
   "execution_count": 41,
   "metadata": {},
   "outputs": [],
   "source": [
    "lu = lu[['User', 'Text', 'Date']]"
   ]
  },
  {
   "cell_type": "code",
   "execution_count": 46,
   "metadata": {},
   "outputs": [],
   "source": [
    "lu.dropna(inplace = True)"
   ]
  },
  {
   "cell_type": "code",
   "execution_count": 52,
   "metadata": {},
   "outputs": [
    {
     "data": {
      "text/plain": [
       "User    0\n",
       "Text    0\n",
       "Date    0\n",
       "dtype: int64"
      ]
     },
     "execution_count": 52,
     "metadata": {},
     "output_type": "execute_result"
    }
   ],
   "source": [
    "pr.isnull().sum()"
   ]
  },
  {
   "cell_type": "code",
   "execution_count": 42,
   "metadata": {},
   "outputs": [],
   "source": [
    "pr = pr[['User', 'Text', 'Date']]"
   ]
  },
  {
   "cell_type": "code",
   "execution_count": 47,
   "metadata": {},
   "outputs": [],
   "source": [
    "pr.dropna(inplace = True)"
   ]
  },
  {
   "cell_type": "code",
   "execution_count": 51,
   "metadata": {},
   "outputs": [
    {
     "data": {
      "text/plain": [
       "User    0\n",
       "Text    0\n",
       "Date    0\n",
       "dtype: int64"
      ]
     },
     "execution_count": 51,
     "metadata": {},
     "output_type": "execute_result"
    }
   ],
   "source": [
    "sc.isnull().sum()"
   ]
  },
  {
   "cell_type": "code",
   "execution_count": 43,
   "metadata": {},
   "outputs": [],
   "source": [
    "sc = sc[['User', 'Text', 'Date']]"
   ]
  },
  {
   "cell_type": "code",
   "execution_count": 48,
   "metadata": {},
   "outputs": [],
   "source": [
    "sc.dropna(inplace = True)"
   ]
  },
  {
   "cell_type": "code",
   "execution_count": 50,
   "metadata": {},
   "outputs": [
    {
     "data": {
      "text/plain": [
       "User    0\n",
       "Text    0\n",
       "Date    0\n",
       "dtype: int64"
      ]
     },
     "execution_count": 50,
     "metadata": {},
     "output_type": "execute_result"
    }
   ],
   "source": [
    "tx.isnull().sum()"
   ]
  },
  {
   "cell_type": "code",
   "execution_count": 44,
   "metadata": {},
   "outputs": [],
   "source": [
    "tx = tx[['User', 'Text', 'Date']]"
   ]
  },
  {
   "cell_type": "code",
   "execution_count": 49,
   "metadata": {},
   "outputs": [],
   "source": [
    "tx.dropna(inplace = True)"
   ]
  },
  {
   "cell_type": "code",
   "execution_count": 54,
   "metadata": {},
   "outputs": [],
   "source": [
    "# create a function to generate coordinates within given radius\n",
    "# this code is my adaptation of Haversine formula\n",
    "# Bob's genius brain has been input here\n",
    "\n",
    "def get_coordinates(num, center, radius):\n",
    "        \n",
    "    lat, long = center\n",
    "    \n",
    "    # add randomness to generate latitude and longitude within the given radius\n",
    "    rho = np.sqrt(np.random.uniform(0, 1, num))\n",
    "    phi = np.random.uniform(0, 2 * np.pi, num)\n",
    "    \n",
    "    dx = rho * radius * np.cos(phi)\n",
    "    dy = rho * radius * np.sin(phi)\n",
    "\n",
    "    # create an empty list to store generated coordinates \n",
    "    coordinates = []\n",
    "    \n",
    "    for i in range(num):\n",
    "        \n",
    "        coordinate = {}\n",
    "        \n",
    "        # earth's mean radius is 6371 km\n",
    "        new_lat = lat + ((180 / math.pi) * (dy[i] / 6371) / math.sin(lat * math.pi / 180)) \n",
    "        new_long = long + ((180 / math.pi) * (dx[i] / 6371) / math.cos(long * math.pi / 180))\n",
    "        \n",
    "        coordinate['lat'] = new_lat\n",
    "        coordinate['long'] = new_long\n",
    "        \n",
    "        # add to list\n",
    "        coordinates.append(coordinate)\n",
    "\n",
    "    return coordinates"
   ]
  },
  {
   "cell_type": "code",
   "execution_count": 57,
   "metadata": {},
   "outputs": [
    {
     "name": "stderr",
     "output_type": "stream",
     "text": [
      "/Users/joseluisnavarrojr/opt/anaconda3/lib/python3.7/site-packages/ipykernel_launcher.py:8: SettingWithCopyWarning:\n",
      "\n",
      "\n",
      "A value is trying to be set on a copy of a slice from a DataFrame.\n",
      "Try using .loc[row_indexer,col_indexer] = value instead\n",
      "\n",
      "See the caveats in the documentation: https://pandas.pydata.org/pandas-docs/stable/user_guide/indexing.html#returning-a-view-versus-a-copy\n",
      "\n",
      "/Users/joseluisnavarrojr/opt/anaconda3/lib/python3.7/site-packages/ipykernel_launcher.py:9: SettingWithCopyWarning:\n",
      "\n",
      "\n",
      "A value is trying to be set on a copy of a slice from a DataFrame.\n",
      "Try using .loc[row_indexer,col_indexer] = value instead\n",
      "\n",
      "See the caveats in the documentation: https://pandas.pydata.org/pandas-docs/stable/user_guide/indexing.html#returning-a-view-versus-a-copy\n",
      "\n"
     ]
    }
   ],
   "source": [
    "# enter the geolocation of your search location:\n",
    "# e.g.: St. Charles Lake, LA - 30.212942, -93.218910\n",
    "\n",
    "coordinates = get_coordinates(fl.shape[0], (27.994402, -81.760254), 150) # --> radius of collected tweets from the center\n",
    "\n",
    "# create columns to store latitude and longitude separately\n",
    "\n",
    "fl['lat'] = [coordinate['lat'] for coordinate in coordinates]\n",
    "fl['long'] = [coordinate['long'] for coordinate in coordinates]"
   ]
  },
  {
   "cell_type": "code",
   "execution_count": 60,
   "metadata": {},
   "outputs": [],
   "source": [
    "# enter the geolocation of your search location:\n",
    "# e.g.: St. Charles Lake, LA - 30.212942, -93.218910\n",
    "\n",
    "coordinates = get_coordinates(lu.shape[0], (30.391830, -92.329102), 150) # --> radius of collected tweets from the center\n",
    "\n",
    "# create columns to store latitude and longitude separately\n",
    "\n",
    "lu['lat'] = [coordinate['lat'] for coordinate in coordinates]\n",
    "lu['long'] = [coordinate['long'] for coordinate in coordinates]"
   ]
  },
  {
   "cell_type": "code",
   "execution_count": 61,
   "metadata": {},
   "outputs": [],
   "source": [
    "# enter the geolocation of your search location:\n",
    "# e.g.: St. Charles Lake, LA - 30.212942, -93.218910\n",
    "\n",
    "coordinates = get_coordinates(pr.shape[0], (18.200178, -66.664513), 150) # --> radius of collected tweets from the center\n",
    "\n",
    "# create columns to store latitude and longitude separately\n",
    "\n",
    "pr['lat'] = [coordinate['lat'] for coordinate in coordinates]\n",
    "pr['long'] = [coordinate['long'] for coordinate in coordinates]"
   ]
  },
  {
   "cell_type": "code",
   "execution_count": 71,
   "metadata": {},
   "outputs": [],
   "source": [
    "# enter the geolocation of your search location:\n",
    "# e.g.: St. Charles Lake, LA - 30.212942, -93.218910\n",
    "\n",
    "coordinates = get_coordinates(sc.shape[0], (33.836082, -81.163727), 150) # --> radius of collected tweets from the center\n",
    "\n",
    "# create columns to store latitude and longitude separately\n",
    "\n",
    "sc['lat'] = [coordinate['lat'] for coordinate in coordinates]\n",
    "sc['long'] = [coordinate['long'] for coordinate in coordinates]"
   ]
  },
  {
   "cell_type": "code",
   "execution_count": 72,
   "metadata": {},
   "outputs": [],
   "source": [
    "# enter the geolocation of your search location:\n",
    "# e.g.: St. Charles Lake, LA - 30.212942, -93.218910\n",
    "\n",
    "coordinates = get_coordinates(tx.shape[0], (31.000000, -100.000000), 150) # --> radius of collected tweets from the center\n",
    "\n",
    "# create columns to store latitude and longitude separately\n",
    "\n",
    "tx['lat'] = [coordinate['lat'] for coordinate in coordinates]\n",
    "tx['long'] = [coordinate['long'] for coordinate in coordinates]"
   ]
  },
  {
   "cell_type": "code",
   "execution_count": 65,
   "metadata": {},
   "outputs": [],
   "source": [
    "fl.to_csv('./data/coordinates_florida_hurricane.csv', index = False)"
   ]
  },
  {
   "cell_type": "code",
   "execution_count": 66,
   "metadata": {},
   "outputs": [],
   "source": [
    "lu.to_csv('./data/coordinates_louisiana_hurricane.csv', index = False)"
   ]
  },
  {
   "cell_type": "code",
   "execution_count": 67,
   "metadata": {},
   "outputs": [],
   "source": [
    "pr.to_csv('./data/coordinates_puertorico_hurricane.csv', index = False)"
   ]
  },
  {
   "cell_type": "code",
   "execution_count": 68,
   "metadata": {},
   "outputs": [],
   "source": [
    "sc.to_csv('./data/coordinates_southcarolina_hurricane.csv', index = False)"
   ]
  },
  {
   "cell_type": "code",
   "execution_count": 73,
   "metadata": {},
   "outputs": [],
   "source": [
    "tx.to_csv('./data/coordinates_texas_hurricane.csv', index = False)"
   ]
  },
  {
   "cell_type": "code",
   "execution_count": null,
   "metadata": {},
   "outputs": [],
   "source": []
  }
 ],
 "metadata": {
  "kernelspec": {
   "display_name": "Python 3",
   "language": "python",
   "name": "python3"
  },
  "language_info": {
   "codemirror_mode": {
    "name": "ipython",
    "version": 3
   },
   "file_extension": ".py",
   "mimetype": "text/x-python",
   "name": "python",
   "nbconvert_exporter": "python",
   "pygments_lexer": "ipython3",
   "version": "3.7.7"
  }
 },
 "nbformat": 4,
 "nbformat_minor": 4
}
