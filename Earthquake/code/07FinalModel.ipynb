{
 "cells": [
  {
   "cell_type": "code",
   "execution_count": 13,
   "metadata": {},
   "outputs": [],
   "source": [
    "# import libraries\n",
    "\n",
    "import pandas as pd\n",
    "import numpy as np\n",
    "import seaborn as sns\n",
    "import matplotlib.pyplot as plt\n",
    "from nltk.corpus import stopwords\n",
    "from sklearn.metrics import confusion_matrix, plot_confusion_matrix,\\\n",
    "                            accuracy_score, roc_curve, auc, roc_auc_score\n",
    "from sklearn.model_selection import train_test_split\n",
    "from sklearn.pipeline import Pipeline\n",
    "from sklearn.feature_extraction.text import TfidfVectorizer\n",
    "from sklearn.svm import SVC\n",
    "\n",
    "import warnings \n",
    "warnings.filterwarnings(\"ignore\")\n",
    "\n",
    "%matplotlib inline"
   ]
  },
  {
   "cell_type": "code",
   "execution_count": 2,
   "metadata": {},
   "outputs": [
    {
     "name": "stdout",
     "output_type": "stream",
     "text": [
      "(38325, 10)\n"
     ]
    },
    {
     "data": {
      "text/html": [
       "<div>\n",
       "<style scoped>\n",
       "    .dataframe tbody tr th:only-of-type {\n",
       "        vertical-align: middle;\n",
       "    }\n",
       "\n",
       "    .dataframe tbody tr th {\n",
       "        vertical-align: top;\n",
       "    }\n",
       "\n",
       "    .dataframe thead th {\n",
       "        text-align: right;\n",
       "    }\n",
       "</style>\n",
       "<table border=\"1\" class=\"dataframe\">\n",
       "  <thead>\n",
       "    <tr style=\"text-align: right;\">\n",
       "      <th></th>\n",
       "      <th>id</th>\n",
       "      <th>user_name</th>\n",
       "      <th>lat</th>\n",
       "      <th>long</th>\n",
       "      <th>date</th>\n",
       "      <th>text</th>\n",
       "      <th>text_clean</th>\n",
       "      <th>n_sentence</th>\n",
       "      <th>n_words</th>\n",
       "      <th>label</th>\n",
       "    </tr>\n",
       "  </thead>\n",
       "  <tbody>\n",
       "    <tr>\n",
       "      <th>0</th>\n",
       "      <td>1241152458912673794</td>\n",
       "      <td>DarkDon_</td>\n",
       "      <td>40.738154</td>\n",
       "      <td>-112.101609</td>\n",
       "      <td>2020-03-20 23:59:40+00:00</td>\n",
       "      <td>TK Kirkland's Reaction To Earthquake's Ex-Wife...</td>\n",
       "      <td>tk kirkland s reaction to earthquake ex wife o...</td>\n",
       "      <td>1</td>\n",
       "      <td>17</td>\n",
       "      <td>1</td>\n",
       "    </tr>\n",
       "    <tr>\n",
       "      <th>1</th>\n",
       "      <td>1241152416214474753</td>\n",
       "      <td>ReallyInID</td>\n",
       "      <td>42.242918</td>\n",
       "      <td>-112.103304</td>\n",
       "      <td>2020-03-20 23:59:30+00:00</td>\n",
       "      <td>That sound you hear is NOT an earthquake. It’s...</td>\n",
       "      <td>that sound you hear is not an earthquake  it s...</td>\n",
       "      <td>2</td>\n",
       "      <td>13</td>\n",
       "      <td>1</td>\n",
       "    </tr>\n",
       "    <tr>\n",
       "      <th>2</th>\n",
       "      <td>1241152284827856896</td>\n",
       "      <td>folsworth</td>\n",
       "      <td>40.982162</td>\n",
       "      <td>-112.104020</td>\n",
       "      <td>2020-03-20 23:58:58+00:00</td>\n",
       "      <td>he said he stocked up on ammo cause he knew Th...</td>\n",
       "      <td>he said stocked up on ammo cause knew the big ...</td>\n",
       "      <td>2</td>\n",
       "      <td>23</td>\n",
       "      <td>1</td>\n",
       "    </tr>\n",
       "    <tr>\n",
       "      <th>3</th>\n",
       "      <td>1241152178695405570</td>\n",
       "      <td>Colony14</td>\n",
       "      <td>42.729481</td>\n",
       "      <td>-112.107004</td>\n",
       "      <td>2020-03-20 23:58:33+00:00</td>\n",
       "      <td>If an earthquake separates CA, WA, and OR from...</td>\n",
       "      <td>if an earthquake separate ca  wa and or from t...</td>\n",
       "      <td>1</td>\n",
       "      <td>23</td>\n",
       "      <td>1</td>\n",
       "    </tr>\n",
       "    <tr>\n",
       "      <th>4</th>\n",
       "      <td>1241152072818364416</td>\n",
       "      <td>MonitorSismico</td>\n",
       "      <td>41.044996</td>\n",
       "      <td>-112.103864</td>\n",
       "      <td>2020-03-20 23:58:08+00:00</td>\n",
       "      <td>#Sismo M 4 SOUTH OF BALI, #INDONESIA. 20-03-20...</td>\n",
       "      <td>sismo m  south of bali  indonesia     utc http...</td>\n",
       "      <td>2</td>\n",
       "      <td>13</td>\n",
       "      <td>1</td>\n",
       "    </tr>\n",
       "  </tbody>\n",
       "</table>\n",
       "</div>"
      ],
      "text/plain": [
       "                    id       user_name        lat        long  \\\n",
       "0  1241152458912673794        DarkDon_  40.738154 -112.101609   \n",
       "1  1241152416214474753      ReallyInID  42.242918 -112.103304   \n",
       "2  1241152284827856896       folsworth  40.982162 -112.104020   \n",
       "3  1241152178695405570        Colony14  42.729481 -112.107004   \n",
       "4  1241152072818364416  MonitorSismico  41.044996 -112.103864   \n",
       "\n",
       "                        date  \\\n",
       "0  2020-03-20 23:59:40+00:00   \n",
       "1  2020-03-20 23:59:30+00:00   \n",
       "2  2020-03-20 23:58:58+00:00   \n",
       "3  2020-03-20 23:58:33+00:00   \n",
       "4  2020-03-20 23:58:08+00:00   \n",
       "\n",
       "                                                text  \\\n",
       "0  TK Kirkland's Reaction To Earthquake's Ex-Wife...   \n",
       "1  That sound you hear is NOT an earthquake. It’s...   \n",
       "2  he said he stocked up on ammo cause he knew Th...   \n",
       "3  If an earthquake separates CA, WA, and OR from...   \n",
       "4  #Sismo M 4 SOUTH OF BALI, #INDONESIA. 20-03-20...   \n",
       "\n",
       "                                          text_clean  n_sentence  n_words  \\\n",
       "0  tk kirkland s reaction to earthquake ex wife o...           1       17   \n",
       "1  that sound you hear is not an earthquake  it s...           2       13   \n",
       "2  he said stocked up on ammo cause knew the big ...           2       23   \n",
       "3  if an earthquake separate ca  wa and or from t...           1       23   \n",
       "4  sismo m  south of bali  indonesia     utc http...           2       13   \n",
       "\n",
       "   label  \n",
       "0      1  \n",
       "1      1  \n",
       "2      1  \n",
       "3      1  \n",
       "4      1  "
      ]
     },
     "execution_count": 2,
     "metadata": {},
     "output_type": "execute_result"
    }
   ],
   "source": [
    "# read in csv\n",
    "\n",
    "df = pd.read_csv('/Users/juhee/Desktop/GA/lsmtmp/juhee/data/final_labeled.csv')\n",
    "\n",
    "print(df.shape)\n",
    "df.head()"
   ]
  },
  {
   "cell_type": "code",
   "execution_count": 3,
   "metadata": {},
   "outputs": [],
   "source": [
    "# set up X and y and train test split\n",
    "\n",
    "X = df['text_clean']\n",
    "y = df['label']\n",
    "\n",
    "X_train, X_test, y_train, y_test = train_test_split(X, y, test_size = .33, random_state = 42, stratify = y)"
   ]
  },
  {
   "cell_type": "code",
   "execution_count": 4,
   "metadata": {},
   "outputs": [
    {
     "name": "stdout",
     "output_type": "stream",
     "text": [
      "179\n",
      "180\n"
     ]
    }
   ],
   "source": [
    "## please swap out relevant words for your disaster accordingly here\n",
    "# create a custom stop words list\n",
    "\n",
    "relevant_words = ['earthquake']\n",
    "\n",
    "print(len(stopwords.words('english')))\n",
    "\n",
    "stop_words = stopwords.words('english') + relevant_words\n",
    "\n",
    "print(len(stop_words))"
   ]
  },
  {
   "cell_type": "code",
   "execution_count": 5,
   "metadata": {},
   "outputs": [],
   "source": [
    "# pipline for the model\n",
    "\n",
    "pipe_svc = Pipeline([\n",
    "                     ('tvec', TfidfVectorizer(max_features = 4000, stop_words = stop_words, max_df = 0.85, min_df = 0.002, ngram_range = (1, 2))),\n",
    "                     ('svc', SVC(probability = True))\n",
    "                    ])"
   ]
  },
  {
   "cell_type": "code",
   "execution_count": 6,
   "metadata": {},
   "outputs": [
    {
     "data": {
      "text/plain": [
       "Pipeline(steps=[('tvec',\n",
       "                 TfidfVectorizer(max_df=0.85, max_features=4000, min_df=0.002,\n",
       "                                 ngram_range=(1, 2),\n",
       "                                 stop_words=['i', 'me', 'my', 'myself', 'we',\n",
       "                                             'our', 'ours', 'ourselves', 'you',\n",
       "                                             \"you're\", \"you've\", \"you'll\",\n",
       "                                             \"you'd\", 'your', 'yours',\n",
       "                                             'yourself', 'yourselves', 'he',\n",
       "                                             'him', 'his', 'himself', 'she',\n",
       "                                             \"she's\", 'her', 'hers', 'herself',\n",
       "                                             'it', \"it's\", 'its', 'itself', ...])),\n",
       "                ('svc', SVC(probability=True))])"
      ]
     },
     "execution_count": 6,
     "metadata": {},
     "output_type": "execute_result"
    }
   ],
   "source": [
    "# fit the training set\n",
    "\n",
    "pipe_svc.fit(X_train, y_train)"
   ]
  },
  {
   "cell_type": "code",
   "execution_count": 7,
   "metadata": {},
   "outputs": [
    {
     "data": {
      "text/plain": [
       "0.8870177103099304"
      ]
     },
     "execution_count": 7,
     "metadata": {},
     "output_type": "execute_result"
    }
   ],
   "source": [
    "# predictions\n",
    "\n",
    "y_preds = pipe_svc.predict(X_test)\n",
    "\n",
    "# score\n",
    "\n",
    "accuracy_score(y_test, y_preds)"
   ]
  },
  {
   "cell_type": "code",
   "execution_count": 8,
   "metadata": {},
   "outputs": [
    {
     "data": {
      "image/png": "[encoded data removed]",
      "text/plain": [
       "<Figure size 432x288 with 2 Axes>"
      ]
     },
     "metadata": {
      "needs_background": "light"
     },
     "output_type": "display_data"
    }
   ],
   "source": [
    "# confusion matrix values\n",
    "\n",
    "tn, fp, fn, tp = confusion_matrix(y_test, y_preds).ravel()\n",
    "\n",
    "# view confusion matrix\n",
    "\n",
    "labels = ['Non-disaster','Disaster']\n",
    "plot_confusion_matrix(pipe_svc, X_test, y_test, cmap = 'Blues', normalize = 'true')\n",
    "plt.xticks(ticks = [0, 1], labels = labels, size = 12)\n",
    "plt.yticks(ticks = [0, 1], labels = labels, size = 12)\n",
    "plt.xlabel('Predicted label', size = 13)\n",
    "plt.ylabel('True label', size = 13);\n",
    "plt.savefig('../images/confusion_matrix.png'); "
   ]
  },
  {
   "cell_type": "code",
   "execution_count": 16,
   "metadata": {},
   "outputs": [
    {
     "data": {
      "text/plain": [
       "0.9425046271748534"
      ]
     },
     "execution_count": 16,
     "metadata": {},
     "output_type": "execute_result"
    }
   ],
   "source": [
    "roc_auc_score(y_test, pred_proba)"
   ]
  },
  {
   "cell_type": "code",
   "execution_count": 11,
   "metadata": {},
   "outputs": [],
   "source": [
    "pred_proba = [i[1] for i in pipe_svc.predict_proba(X_test)]\n",
    "\n",
    "pred_df = pd.DataFrame({'true_values': y_test,\n",
    "                        'pred_probs':pred_proba})"
   ]
  },
  {
   "cell_type": "code",
   "execution_count": 24,
   "metadata": {},
   "outputs": [
    {
     "data": {
      "image/png": "[encoded data removed]",
      "text/plain": [
       "<Figure size 720x504 with 1 Axes>"
      ]
     },
     "metadata": {
      "needs_background": "light"
     },
     "output_type": "display_data"
    }
   ],
   "source": [
    "# create figure\n",
    "\n",
    "plt.figure(figsize = (10,7))\n",
    "\n",
    "# create threshold values (dashed orange line)\n",
    "\n",
    "thresholds = np.linspace(0, 1, 200)\n",
    "\n",
    "# define function to calculate sensitivity (true positive rate)\n",
    "\n",
    "def TPR(df, true_col, pred_prob_col, threshold):\n",
    "    true_positive = df[(df[true_col] == 1) & (df[pred_prob_col] >= threshold)].shape[0]\n",
    "    false_negative = df[(df[true_col] == 1) & (df[pred_prob_col] < threshold)].shape[0]\n",
    "    return true_positive / (true_positive + false_negative)\n",
    "    \n",
    "\n",
    "# define function to calculate false positive rate (1 - specificity)\n",
    "\n",
    "def FPR(df, true_col, pred_prob_col, threshold):\n",
    "    true_negative = df[(df[true_col] == 0) & (df[pred_prob_col] <= threshold)].shape[0]\n",
    "    false_positive = df[(df[true_col] == 0) & (df[pred_prob_col] > threshold)].shape[0]\n",
    "    return 1 - (true_negative / (true_negative + false_positive))\n",
    "    \n",
    "# calculate sensitivity & 1-specificity for each threshold between 0 and 1\n",
    "\n",
    "tpr_values = [TPR(pred_df, 'true_values', 'pred_probs', prob) for prob in thresholds]\n",
    "fpr_values = [FPR(pred_df, 'true_values', 'pred_probs', prob) for prob in thresholds]\n",
    "\n",
    "# plot roc curve\n",
    "\n",
    "plt.plot(fpr_values, # False Positive Rate on X-axis\n",
    "         tpr_values, # True Positive Rate on Y-axis\n",
    "         label = 'ROC Curve')\n",
    "\n",
    "# plot baseline\n",
    "\n",
    "plt.plot(np.linspace(0, 1, 200),\n",
    "         np.linspace(0, 1, 200),\n",
    "         label = 'baseline',\n",
    "         linestyle = '--')\n",
    "\n",
    "# label axes\n",
    "\n",
    "plt.title('ROC Curve with AUC:' + round(roc_auc_score(pred_df['true_values'], pred_df['pred_probs']), 3).astype(str), fontsize = 16)\n",
    "plt.ylabel('Sensitivity \\n (True Positive Rate)', fontsize = 13)\n",
    "plt.xlabel('1 - Specificity \\n (False Positive Rate)', fontsize = 13)\n",
    "\n",
    "# legend\n",
    "\n",
    "plt.legend(fontsize = 13)\n",
    "\n",
    "plt.savefig('../images/roc_curve.png');"
   ]
  },
  {
   "cell_type": "code",
   "execution_count": null,
   "metadata": {},
   "outputs": [],
   "source": []
  }
 ],
 "metadata": {
  "kernelspec": {
   "display_name": "Python 3",
   "language": "python",
   "name": "python3"
  },
  "language_info": {
   "codemirror_mode": {
    "name": "ipython",
    "version": 3
   },
   "file_extension": ".py",
   "mimetype": "text/x-python",
   "name": "python",
   "nbconvert_exporter": "python",
   "pygments_lexer": "ipython3",
   "version": "3.7.7"
  }
 },
 "nbformat": 4,
 "nbformat_minor": 4
}
