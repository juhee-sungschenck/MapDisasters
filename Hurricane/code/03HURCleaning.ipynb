{
 "cells": [
  {
   "cell_type": "code",
   "execution_count": 1,
   "metadata": {},
   "outputs": [],
   "source": [
    "import pandas as pd\n",
    "import numpy as np\n",
    "import re\n",
    "import nltk\n",
    "from nltk.tokenize import RegexpTokenizer\n",
    "from nltk.stem import WordNetLemmatizer\n",
    "from nltk.corpus import stopwords"
   ]
  },
  {
   "cell_type": "code",
   "execution_count": 2,
   "metadata": {},
   "outputs": [],
   "source": [
    "fl = pd.read_csv('../data/coordinates_florida_hurricane.csv', index_col = 0)\n",
    "lu = pd.read_csv('../data/coordinates_louisiana_hurricane.csv', index_col = 0)\n",
    "pr = pd.read_csv('../data/coordinates_puertorico_hurricane.csv', index_col = 0)\n",
    "sc = pd.read_csv('../data/coordinates_southcarolina_hurricane.csv', index_col = 0)\n",
    "tx = pd.read_csv('../data/coordinates_texas_hurricane.csv', index_col = 0)"
   ]
  },
  {
   "cell_type": "code",
   "execution_count": 3,
   "metadata": {},
   "outputs": [],
   "source": [
    "df = pd.concat([fl, lu, pr, sc, tx], axis = 0)"
   ]
  },
  {
   "cell_type": "code",
   "execution_count": 4,
   "metadata": {},
   "outputs": [
    {
     "data": {
      "text/html": [
       "<div>\n",
       "<style scoped>\n",
       "    .dataframe tbody tr th:only-of-type {\n",
       "        vertical-align: middle;\n",
       "    }\n",
       "\n",
       "    .dataframe tbody tr th {\n",
       "        vertical-align: top;\n",
       "    }\n",
       "\n",
       "    .dataframe thead th {\n",
       "        text-align: right;\n",
       "    }\n",
       "</style>\n",
       "<table border=\"1\" class=\"dataframe\">\n",
       "  <thead>\n",
       "    <tr style=\"text-align: right;\">\n",
       "      <th></th>\n",
       "      <th>Text</th>\n",
       "      <th>Date</th>\n",
       "      <th>lat</th>\n",
       "      <th>long</th>\n",
       "    </tr>\n",
       "    <tr>\n",
       "      <th>User</th>\n",
       "      <th></th>\n",
       "      <th></th>\n",
       "      <th></th>\n",
       "      <th></th>\n",
       "    </tr>\n",
       "  </thead>\n",
       "  <tbody>\n",
       "    <tr>\n",
       "      <th>ShamarlaB_</th>\n",
       "      <td>A customer service rep told me Friday “there i...</td>\n",
       "      <td>2020-08-31 23:15:25+00:00</td>\n",
       "      <td>25.525284</td>\n",
       "      <td>-80.606920</td>\n",
       "    </tr>\n",
       "    <tr>\n",
       "      <th>saborhavanacig</th>\n",
       "      <td>Tomorrow at 7pm After Hours with Sabor Havana ...</td>\n",
       "      <td>2020-08-31 22:39:25+00:00</td>\n",
       "      <td>27.686273</td>\n",
       "      <td>-80.934588</td>\n",
       "    </tr>\n",
       "    <tr>\n",
       "      <th>RauschInsurance</th>\n",
       "      <td>Hurricane Laura wallops areas with high mortga...</td>\n",
       "      <td>2020-08-31 22:31:09+00:00</td>\n",
       "      <td>27.701712</td>\n",
       "      <td>-75.255859</td>\n",
       "    </tr>\n",
       "    <tr>\n",
       "      <th>mitchylovesyou</th>\n",
       "      <td>I never wish bad on anyone but I think we need...</td>\n",
       "      <td>2020-08-31 20:25:29+00:00</td>\n",
       "      <td>29.114762</td>\n",
       "      <td>-84.339632</td>\n",
       "    </tr>\n",
       "    <tr>\n",
       "      <th>__ashleycarla</th>\n",
       "      <td>Wth is pricemart so full????? Is their a hurri...</td>\n",
       "      <td>2020-08-31 19:51:39+00:00</td>\n",
       "      <td>28.506867</td>\n",
       "      <td>-89.678090</td>\n",
       "    </tr>\n",
       "  </tbody>\n",
       "</table>\n",
       "</div>"
      ],
      "text/plain": [
       "                                                              Text  \\\n",
       "User                                                                 \n",
       "ShamarlaB_       A customer service rep told me Friday “there i...   \n",
       "saborhavanacig   Tomorrow at 7pm After Hours with Sabor Havana ...   \n",
       "RauschInsurance  Hurricane Laura wallops areas with high mortga...   \n",
       "mitchylovesyou   I never wish bad on anyone but I think we need...   \n",
       "__ashleycarla    Wth is pricemart so full????? Is their a hurri...   \n",
       "\n",
       "                                      Date        lat       long  \n",
       "User                                                              \n",
       "ShamarlaB_       2020-08-31 23:15:25+00:00  25.525284 -80.606920  \n",
       "saborhavanacig   2020-08-31 22:39:25+00:00  27.686273 -80.934588  \n",
       "RauschInsurance  2020-08-31 22:31:09+00:00  27.701712 -75.255859  \n",
       "mitchylovesyou   2020-08-31 20:25:29+00:00  29.114762 -84.339632  \n",
       "__ashleycarla    2020-08-31 19:51:39+00:00  28.506867 -89.678090  "
      ]
     },
     "execution_count": 4,
     "metadata": {},
     "output_type": "execute_result"
    }
   ],
   "source": [
    "df.head()"
   ]
  },
  {
   "cell_type": "code",
   "execution_count": 5,
   "metadata": {},
   "outputs": [
    {
     "data": {
      "text/plain": [
       "(41101, 4)"
      ]
     },
     "execution_count": 5,
     "metadata": {},
     "output_type": "execute_result"
    }
   ],
   "source": [
    "df.shape"
   ]
  },
  {
   "cell_type": "code",
   "execution_count": 6,
   "metadata": {},
   "outputs": [
    {
     "data": {
      "text/plain": [
       "Text    0\n",
       "Date    0\n",
       "lat     0\n",
       "long    0\n",
       "dtype: int64"
      ]
     },
     "execution_count": 6,
     "metadata": {},
     "output_type": "execute_result"
    }
   ],
   "source": [
    "df.isnull().sum()"
   ]
  },
  {
   "cell_type": "code",
   "execution_count": 8,
   "metadata": {},
   "outputs": [],
   "source": [
    "# instantiate lemmatizer and tokenizer\n",
    "\n",
    "lemmatizer = WordNetLemmatizer()\n",
    "tokenizer = RegexpTokenizer(r'\\w+|\\$[\\d\\.]+|\\S+')"
   ]
  },
  {
   "cell_type": "code",
   "execution_count": 9,
   "metadata": {},
   "outputs": [
    {
     "name": "stderr",
     "output_type": "stream",
     "text": [
      "/Users/joseluisnavarrojr/opt/anaconda3/lib/python3.7/site-packages/ipykernel_launcher.py:34: SettingWithCopyWarning: \n",
      "A value is trying to be set on a copy of a slice from a DataFrame\n",
      "\n",
      "See the caveats in the documentation: https://pandas.pydata.org/pandas-docs/stable/user_guide/indexing.html#returning-a-view-versus-a-copy\n"
     ]
    }
   ],
   "source": [
    "## tokenize and lemmatize\n",
    "\n",
    "# create a column 'text_clean'\n",
    "\n",
    "df['text_clean'] = ''\n",
    "\n",
    "# iterate through each row in the column text_all\n",
    "    \n",
    "for i in range(len(df['Text'])):\n",
    "        \n",
    "    # tokenize each word in text into its own string\n",
    "    text_token = []\n",
    "    text_token.extend(tokenizer.tokenize(df['Text'][i].lower()))\n",
    "    text_tokens = []\n",
    "    [text_tokens.append(word) for word in text_token if word not in text_tokens]\n",
    "        \n",
    "    # lemmatize the words\n",
    "    text_lemmatize = []\n",
    "    for j in range(len(text_tokens)):\n",
    "        text_lemmatize.append(lemmatizer.lemmatize(text_tokens[j]))\n",
    "        \n",
    "    # remove characters and numbers\n",
    "    clean_text = []\n",
    "    for k in range(len(text_lemmatize)):\n",
    "        clean_text.append(re.sub('[^a-zA-Z]', '', text_lemmatize[k]))    \n",
    "        \n",
    "    # group them together\n",
    "    texts_collection = [text for text in clean_text]\n",
    "    \n",
    "    # put the words back to one long string for vectorization\n",
    "    texts_collection = ' '.join(texts_collection)\n",
    "\n",
    "    # fill new column\n",
    "    df['text_clean'][i] = texts_collection"
   ]
  },
  {
   "cell_type": "code",
   "execution_count": 10,
   "metadata": {},
   "outputs": [
    {
     "data": {
      "text/html": [
       "<div>\n",
       "<style scoped>\n",
       "    .dataframe tbody tr th:only-of-type {\n",
       "        vertical-align: middle;\n",
       "    }\n",
       "\n",
       "    .dataframe tbody tr th {\n",
       "        vertical-align: top;\n",
       "    }\n",
       "\n",
       "    .dataframe thead th {\n",
       "        text-align: right;\n",
       "    }\n",
       "</style>\n",
       "<table border=\"1\" class=\"dataframe\">\n",
       "  <thead>\n",
       "    <tr style=\"text-align: right;\">\n",
       "      <th></th>\n",
       "      <th>Text</th>\n",
       "      <th>Date</th>\n",
       "      <th>lat</th>\n",
       "      <th>long</th>\n",
       "      <th>text_clean</th>\n",
       "    </tr>\n",
       "    <tr>\n",
       "      <th>User</th>\n",
       "      <th></th>\n",
       "      <th></th>\n",
       "      <th></th>\n",
       "      <th></th>\n",
       "      <th></th>\n",
       "    </tr>\n",
       "  </thead>\n",
       "  <tbody>\n",
       "    <tr>\n",
       "      <th>ShamarlaB_</th>\n",
       "      <td>A customer service rep told me Friday “there i...</td>\n",
       "      <td>2020-08-31 23:15:25+00:00</td>\n",
       "      <td>25.525284</td>\n",
       "      <td>-80.606920</td>\n",
       "      <td>a customer service rep told me friday there is...</td>\n",
       "    </tr>\n",
       "    <tr>\n",
       "      <th>saborhavanacig</th>\n",
       "      <td>Tomorrow at 7pm After Hours with Sabor Havana ...</td>\n",
       "      <td>2020-08-31 22:39:25+00:00</td>\n",
       "      <td>27.686273</td>\n",
       "      <td>-80.934588</td>\n",
       "      <td>tomorrow at pm after hour with sabor havana ci...</td>\n",
       "    </tr>\n",
       "    <tr>\n",
       "      <th>RauschInsurance</th>\n",
       "      <td>Hurricane Laura wallops areas with high mortga...</td>\n",
       "      <td>2020-08-31 22:31:09+00:00</td>\n",
       "      <td>27.701712</td>\n",
       "      <td>-75.255859</td>\n",
       "      <td>hurricane laura wallop area with high mortgage...</td>\n",
       "    </tr>\n",
       "    <tr>\n",
       "      <th>mitchylovesyou</th>\n",
       "      <td>I never wish bad on anyone but I think we need...</td>\n",
       "      <td>2020-08-31 20:25:29+00:00</td>\n",
       "      <td>29.114762</td>\n",
       "      <td>-84.339632</td>\n",
       "      <td>i never wish bad on anyone but think we need a...</td>\n",
       "    </tr>\n",
       "    <tr>\n",
       "      <th>__ashleycarla</th>\n",
       "      <td>Wth is pricemart so full????? Is their a hurri...</td>\n",
       "      <td>2020-08-31 19:51:39+00:00</td>\n",
       "      <td>28.506867</td>\n",
       "      <td>-89.678090</td>\n",
       "      <td>wth is pricemart so full  their a hurricane id...</td>\n",
       "    </tr>\n",
       "  </tbody>\n",
       "</table>\n",
       "</div>"
      ],
      "text/plain": [
       "                                                              Text  \\\n",
       "User                                                                 \n",
       "ShamarlaB_       A customer service rep told me Friday “there i...   \n",
       "saborhavanacig   Tomorrow at 7pm After Hours with Sabor Havana ...   \n",
       "RauschInsurance  Hurricane Laura wallops areas with high mortga...   \n",
       "mitchylovesyou   I never wish bad on anyone but I think we need...   \n",
       "__ashleycarla    Wth is pricemart so full????? Is their a hurri...   \n",
       "\n",
       "                                      Date        lat       long  \\\n",
       "User                                                               \n",
       "ShamarlaB_       2020-08-31 23:15:25+00:00  25.525284 -80.606920   \n",
       "saborhavanacig   2020-08-31 22:39:25+00:00  27.686273 -80.934588   \n",
       "RauschInsurance  2020-08-31 22:31:09+00:00  27.701712 -75.255859   \n",
       "mitchylovesyou   2020-08-31 20:25:29+00:00  29.114762 -84.339632   \n",
       "__ashleycarla    2020-08-31 19:51:39+00:00  28.506867 -89.678090   \n",
       "\n",
       "                                                        text_clean  \n",
       "User                                                                \n",
       "ShamarlaB_       a customer service rep told me friday there is...  \n",
       "saborhavanacig   tomorrow at pm after hour with sabor havana ci...  \n",
       "RauschInsurance  hurricane laura wallop area with high mortgage...  \n",
       "mitchylovesyou   i never wish bad on anyone but think we need a...  \n",
       "__ashleycarla    wth is pricemart so full  their a hurricane id...  "
      ]
     },
     "execution_count": 10,
     "metadata": {},
     "output_type": "execute_result"
    }
   ],
   "source": [
    "df.head()"
   ]
  },
  {
   "cell_type": "code",
   "execution_count": 11,
   "metadata": {},
   "outputs": [],
   "source": [
    "df= df[['Date', 'Text', 'text_clean', 'lat', 'long']]"
   ]
  },
  {
   "cell_type": "code",
   "execution_count": 12,
   "metadata": {},
   "outputs": [
    {
     "data": {
      "text/html": [
       "<div>\n",
       "<style scoped>\n",
       "    .dataframe tbody tr th:only-of-type {\n",
       "        vertical-align: middle;\n",
       "    }\n",
       "\n",
       "    .dataframe tbody tr th {\n",
       "        vertical-align: top;\n",
       "    }\n",
       "\n",
       "    .dataframe thead th {\n",
       "        text-align: right;\n",
       "    }\n",
       "</style>\n",
       "<table border=\"1\" class=\"dataframe\">\n",
       "  <thead>\n",
       "    <tr style=\"text-align: right;\">\n",
       "      <th></th>\n",
       "      <th>Date</th>\n",
       "      <th>Text</th>\n",
       "      <th>text_clean</th>\n",
       "      <th>lat</th>\n",
       "      <th>long</th>\n",
       "    </tr>\n",
       "    <tr>\n",
       "      <th>User</th>\n",
       "      <th></th>\n",
       "      <th></th>\n",
       "      <th></th>\n",
       "      <th></th>\n",
       "      <th></th>\n",
       "    </tr>\n",
       "  </thead>\n",
       "  <tbody>\n",
       "    <tr>\n",
       "      <th>ShamarlaB_</th>\n",
       "      <td>2020-08-31 23:15:25+00:00</td>\n",
       "      <td>A customer service rep told me Friday “there i...</td>\n",
       "      <td>a customer service rep told me friday there is...</td>\n",
       "      <td>25.525284</td>\n",
       "      <td>-80.606920</td>\n",
       "    </tr>\n",
       "    <tr>\n",
       "      <th>saborhavanacig</th>\n",
       "      <td>2020-08-31 22:39:25+00:00</td>\n",
       "      <td>Tomorrow at 7pm After Hours with Sabor Havana ...</td>\n",
       "      <td>tomorrow at pm after hour with sabor havana ci...</td>\n",
       "      <td>27.686273</td>\n",
       "      <td>-80.934588</td>\n",
       "    </tr>\n",
       "    <tr>\n",
       "      <th>RauschInsurance</th>\n",
       "      <td>2020-08-31 22:31:09+00:00</td>\n",
       "      <td>Hurricane Laura wallops areas with high mortga...</td>\n",
       "      <td>hurricane laura wallop area with high mortgage...</td>\n",
       "      <td>27.701712</td>\n",
       "      <td>-75.255859</td>\n",
       "    </tr>\n",
       "    <tr>\n",
       "      <th>mitchylovesyou</th>\n",
       "      <td>2020-08-31 20:25:29+00:00</td>\n",
       "      <td>I never wish bad on anyone but I think we need...</td>\n",
       "      <td>i never wish bad on anyone but think we need a...</td>\n",
       "      <td>29.114762</td>\n",
       "      <td>-84.339632</td>\n",
       "    </tr>\n",
       "    <tr>\n",
       "      <th>__ashleycarla</th>\n",
       "      <td>2020-08-31 19:51:39+00:00</td>\n",
       "      <td>Wth is pricemart so full????? Is their a hurri...</td>\n",
       "      <td>wth is pricemart so full  their a hurricane id...</td>\n",
       "      <td>28.506867</td>\n",
       "      <td>-89.678090</td>\n",
       "    </tr>\n",
       "  </tbody>\n",
       "</table>\n",
       "</div>"
      ],
      "text/plain": [
       "                                      Date  \\\n",
       "User                                         \n",
       "ShamarlaB_       2020-08-31 23:15:25+00:00   \n",
       "saborhavanacig   2020-08-31 22:39:25+00:00   \n",
       "RauschInsurance  2020-08-31 22:31:09+00:00   \n",
       "mitchylovesyou   2020-08-31 20:25:29+00:00   \n",
       "__ashleycarla    2020-08-31 19:51:39+00:00   \n",
       "\n",
       "                                                              Text  \\\n",
       "User                                                                 \n",
       "ShamarlaB_       A customer service rep told me Friday “there i...   \n",
       "saborhavanacig   Tomorrow at 7pm After Hours with Sabor Havana ...   \n",
       "RauschInsurance  Hurricane Laura wallops areas with high mortga...   \n",
       "mitchylovesyou   I never wish bad on anyone but I think we need...   \n",
       "__ashleycarla    Wth is pricemart so full????? Is their a hurri...   \n",
       "\n",
       "                                                        text_clean        lat  \\\n",
       "User                                                                            \n",
       "ShamarlaB_       a customer service rep told me friday there is...  25.525284   \n",
       "saborhavanacig   tomorrow at pm after hour with sabor havana ci...  27.686273   \n",
       "RauschInsurance  hurricane laura wallop area with high mortgage...  27.701712   \n",
       "mitchylovesyou   i never wish bad on anyone but think we need a...  29.114762   \n",
       "__ashleycarla    wth is pricemart so full  their a hurricane id...  28.506867   \n",
       "\n",
       "                      long  \n",
       "User                        \n",
       "ShamarlaB_      -80.606920  \n",
       "saborhavanacig  -80.934588  \n",
       "RauschInsurance -75.255859  \n",
       "mitchylovesyou  -84.339632  \n",
       "__ashleycarla   -89.678090  "
      ]
     },
     "execution_count": 12,
     "metadata": {},
     "output_type": "execute_result"
    }
   ],
   "source": [
    "df.head()"
   ]
  },
  {
   "cell_type": "code",
   "execution_count": 13,
   "metadata": {},
   "outputs": [],
   "source": [
    "df.to_csv('../data/clean_hurricane.csv', index = False)"
   ]
  },
  {
   "cell_type": "code",
   "execution_count": null,
   "metadata": {},
   "outputs": [],
   "source": []
  }
 ],
 "metadata": {
  "kernelspec": {
   "display_name": "Python 3",
   "language": "python",
   "name": "python3"
  },
  "language_info": {
   "codemirror_mode": {
    "name": "ipython",
    "version": 3
   },
   "file_extension": ".py",
   "mimetype": "text/x-python",
   "name": "python",
   "nbconvert_exporter": "python",
   "pygments_lexer": "ipython3",
   "version": "3.7.7"
  }
 },
 "nbformat": 4,
 "nbformat_minor": 4
}
