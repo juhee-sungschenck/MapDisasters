{
 "cells": [
  {
   "cell_type": "code",
   "execution_count": 4,
   "metadata": {},
   "outputs": [],
   "source": [
    "# import libraries\n",
    "\n",
    "import pandas as pd\n",
    "import numpy as np\n",
    "import string as str"
   ]
  },
  {
   "cell_type": "code",
   "execution_count": 2,
   "metadata": {},
   "outputs": [
    {
     "data": {
      "text/html": [
       "<div>\n",
       "<style scoped>\n",
       "    .dataframe tbody tr th:only-of-type {\n",
       "        vertical-align: middle;\n",
       "    }\n",
       "\n",
       "    .dataframe tbody tr th {\n",
       "        vertical-align: top;\n",
       "    }\n",
       "\n",
       "    .dataframe thead th {\n",
       "        text-align: right;\n",
       "    }\n",
       "</style>\n",
       "<table border=\"1\" class=\"dataframe\">\n",
       "  <thead>\n",
       "    <tr style=\"text-align: right;\">\n",
       "      <th></th>\n",
       "      <th>id</th>\n",
       "      <th>text</th>\n",
       "      <th>user_name</th>\n",
       "      <th>date</th>\n",
       "      <th>lat</th>\n",
       "      <th>long</th>\n",
       "    </tr>\n",
       "  </thead>\n",
       "  <tbody>\n",
       "    <tr>\n",
       "      <th>0</th>\n",
       "      <td>1241152458912673794</td>\n",
       "      <td>TK Kirkland's Reaction To Earthquake's Ex-Wife...</td>\n",
       "      <td>DarkDon_</td>\n",
       "      <td>2020-03-20 23:59:40+00:00</td>\n",
       "      <td>40.738154</td>\n",
       "      <td>-112.101609</td>\n",
       "    </tr>\n",
       "    <tr>\n",
       "      <th>1</th>\n",
       "      <td>1241152416214474753</td>\n",
       "      <td>That sound you hear is NOT an earthquake. It’s...</td>\n",
       "      <td>ReallyInID</td>\n",
       "      <td>2020-03-20 23:59:30+00:00</td>\n",
       "      <td>42.242918</td>\n",
       "      <td>-112.103304</td>\n",
       "    </tr>\n",
       "    <tr>\n",
       "      <th>2</th>\n",
       "      <td>1241152284827856896</td>\n",
       "      <td>he said he stocked up on ammo cause he knew Th...</td>\n",
       "      <td>folsworth</td>\n",
       "      <td>2020-03-20 23:58:58+00:00</td>\n",
       "      <td>40.982162</td>\n",
       "      <td>-112.104020</td>\n",
       "    </tr>\n",
       "    <tr>\n",
       "      <th>3</th>\n",
       "      <td>1241152178695405570</td>\n",
       "      <td>If an earthquake separates CA, WA, and OR from...</td>\n",
       "      <td>Colony14</td>\n",
       "      <td>2020-03-20 23:58:33+00:00</td>\n",
       "      <td>42.729481</td>\n",
       "      <td>-112.107004</td>\n",
       "    </tr>\n",
       "    <tr>\n",
       "      <th>4</th>\n",
       "      <td>1241152072818364416</td>\n",
       "      <td>#Sismo M 4 SOUTH OF BALI, #INDONESIA. 20-03-20...</td>\n",
       "      <td>MonitorSismico</td>\n",
       "      <td>2020-03-20 23:58:08+00:00</td>\n",
       "      <td>41.044996</td>\n",
       "      <td>-112.103864</td>\n",
       "    </tr>\n",
       "  </tbody>\n",
       "</table>\n",
       "</div>"
      ],
      "text/plain": [
       "                    id                                               text  \\\n",
       "0  1241152458912673794  TK Kirkland's Reaction To Earthquake's Ex-Wife...   \n",
       "1  1241152416214474753  That sound you hear is NOT an earthquake. It’s...   \n",
       "2  1241152284827856896  he said he stocked up on ammo cause he knew Th...   \n",
       "3  1241152178695405570  If an earthquake separates CA, WA, and OR from...   \n",
       "4  1241152072818364416  #Sismo M 4 SOUTH OF BALI, #INDONESIA. 20-03-20...   \n",
       "\n",
       "        user_name                       date        lat        long  \n",
       "0        DarkDon_  2020-03-20 23:59:40+00:00  40.738154 -112.101609  \n",
       "1      ReallyInID  2020-03-20 23:59:30+00:00  42.242918 -112.103304  \n",
       "2       folsworth  2020-03-20 23:58:58+00:00  40.982162 -112.104020  \n",
       "3        Colony14  2020-03-20 23:58:33+00:00  42.729481 -112.107004  \n",
       "4  MonitorSismico  2020-03-20 23:58:08+00:00  41.044996 -112.103864  "
      ]
     },
     "execution_count": 2,
     "metadata": {},
     "output_type": "execute_result"
    }
   ],
   "source": [
    "# read in the dataset\n",
    "\n",
    "df = pd.read_csv('/Users/juhee/Desktop/GA/lsmtmp/juhee/data/final.csv')\n",
    "\n",
    "df.head()"
   ]
  },
  {
   "cell_type": "code",
   "execution_count": 3,
   "metadata": {},
   "outputs": [
    {
     "data": {
      "text/plain": [
       "id             0\n",
       "text         456\n",
       "user_name      0\n",
       "date           0\n",
       "lat            0\n",
       "long           0\n",
       "dtype: int64"
      ]
     },
     "execution_count": 3,
     "metadata": {},
     "output_type": "execute_result"
    }
   ],
   "source": [
    "# check for nulls\n",
    "\n",
    "df.isnull().sum()"
   ]
  },
  {
   "cell_type": "code",
   "execution_count": 7,
   "metadata": {},
   "outputs": [
    {
     "data": {
      "text/plain": [
       "(39544, 6)"
      ]
     },
     "execution_count": 7,
     "metadata": {},
     "output_type": "execute_result"
    }
   ],
   "source": [
    "# drop any rows without text\n",
    "\n",
    "df.dropna(axis = 0, inplace = True)\n",
    "\n",
    "# check if dropped as intended (40_000 - 456 = 39_544)\n",
    "\n",
    "df.shape"
   ]
  },
  {
   "cell_type": "code",
   "execution_count": 14,
   "metadata": {},
   "outputs": [],
   "source": [
    "df.to_csv('/Users/juhee/Desktop/GA/lsmtmp/juhee/data/cleaned.csv', index = False)"
   ]
  },
  {
   "cell_type": "code",
   "execution_count": null,
   "metadata": {},
   "outputs": [],
   "source": []
  }
 ],
 "metadata": {
  "kernelspec": {
   "display_name": "Python 3",
   "language": "python",
   "name": "python3"
  },
  "language_info": {
   "codemirror_mode": {
    "name": "ipython",
    "version": 3
   },
   "file_extension": ".py",
   "mimetype": "text/x-python",
   "name": "python",
   "nbconvert_exporter": "python",
   "pygments_lexer": "ipython3",
   "version": "3.7.7"
  }
 },
 "nbformat": 4,
 "nbformat_minor": 4
}
