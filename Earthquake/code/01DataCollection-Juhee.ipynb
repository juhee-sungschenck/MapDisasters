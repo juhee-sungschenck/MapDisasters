{
 "cells": [
  {
   "cell_type": "code",
   "execution_count": 1,
   "metadata": {},
   "outputs": [],
   "source": [
    "# import libraries\n",
    "\n",
    "import GetOldTweets3 as got\n",
    "import pandas as pd\n",
    "import numpy as np\n",
    "import time"
   ]
  },
  {
   "cell_type": "code",
   "execution_count": 2,
   "metadata": {},
   "outputs": [
    {
     "name": "stdout",
     "output_type": "stream",
     "text": [
      "1304062335812685825\n",
      " Trump has radicalized America. Join @RonSteslow, @SteveSchmidtSES, and @reedgalen tonight (9/10) at 6 PM ET as they discuss how Trump incites violence and what you can do to help defeat him in November. RSVP:\n",
      "\n",
      "2020-09-10 14:21:03+00:00\n",
      "\n"
     ]
    }
   ],
   "source": [
    "# https://pypi.org/project/GetOldTweets3/\n",
    "# these next two cells are to figure out the structure of a tweet\n",
    "\n",
    "tweetCriteria = got.manager.TweetCriteria().setUsername('projectlincoln')\\\n",
    "                                           .setMaxTweets(2)\n",
    "tweet = got.manager.TweetManager.getTweets(tweetCriteria)[0]\n",
    "\n",
    "print(tweet.id)\n",
    "print(tweet.text)\n",
    "print(tweet.hashtags)\n",
    "print(tweet.date)\n",
    "print(tweet.geo)"
   ]
  },
  {
   "cell_type": "code",
   "execution_count": 3,
   "metadata": {},
   "outputs": [
    {
     "name": "stdout",
     "output_type": "stream",
     "text": [
      "1304055313629241344\n",
      "https://twitter.com/realDonaldTrump/status/1304040990550958081\n",
      "\n",
      "2020-09-10 13:53:09+00:00\n",
      "\n"
     ]
    }
   ],
   "source": [
    "tweet = got.manager.TweetManager.getTweets(tweetCriteria)[1]\n",
    "\n",
    "print(tweet.id)\n",
    "print(tweet.text)\n",
    "print(tweet.hashtags)\n",
    "print(tweet.date)\n",
    "print(tweet.geo)"
   ]
  },
  {
   "cell_type": "code",
   "execution_count": 8,
   "metadata": {},
   "outputs": [],
   "source": [
    "# create a function to get tweets from Twitter with GetOldTweets3\n",
    "\n",
    "def get_old_tweets(hashtag, since, until, center = [], radius = '150km'):\n",
    "   \n",
    "    # create an empty list to collect the tweets\n",
    "    \n",
    "    all_tweets = []\n",
    "    \n",
    "    # set search criteria: hastag - keyword, store emoji in unicode, from (since) to (until), in location (near), within distance (radius)\n",
    "    \n",
    "    tweetCriteria = got.manager.TweetCriteria()\\\n",
    "                               .setQuerySearch(hashtag)\\\n",
    "                               .setTopTweets(False)\\\n",
    "                               .setEmoji('unicode')\\\n",
    "                               .setSince(since)\\\n",
    "                               .setUntil(until)\\\n",
    "                               .setNear(center)\\\n",
    "                               .setWithin(radius)\\\n",
    "                               .setMaxTweets(10_000)\n",
    " \n",
    "    # for loop to iterate each tweet to create a dictionary to store it in a dataframe\n",
    "    for tweet in got.manager.TweetManager.getTweets(tweetCriteria):\n",
    "        tweets = {}\n",
    "        tweets['id'] = tweet.id\n",
    "        tweets['text'] = tweet.text\n",
    "        tweets['keyword'] = tweet.hashtags\n",
    "        tweets['user_name'] = tweet.username\n",
    "        tweets['date'] = tweet.date\n",
    "        tweets['location'] = tweet.geo\n",
    "\n",
    "        all_tweets.append(tweets)\n",
    "\n",
    "    df = pd.DataFrame(all_tweets)\n",
    "    \n",
    "    return df"
   ]
  },
  {
   "cell_type": "code",
   "execution_count": 9,
   "metadata": {},
   "outputs": [],
   "source": [
    "# get tweets and assign the dataframe\n",
    "\n",
    "df = get_old_tweets(hashtag = 'earthquake', since = '2020-03-18', until = '2020-03-21', center = ['Magna'])"
   ]
  },
  {
   "cell_type": "code",
   "execution_count": 10,
   "metadata": {},
   "outputs": [
    {
     "name": "stdout",
     "output_type": "stream",
     "text": [
      "<class 'pandas.core.frame.DataFrame'>\n",
      "RangeIndex: 10000 entries, 0 to 9999\n",
      "Data columns (total 6 columns):\n",
      " #   Column     Non-Null Count  Dtype              \n",
      "---  ------     --------------  -----              \n",
      " 0   id         10000 non-null  object             \n",
      " 1   text       10000 non-null  object             \n",
      " 2   keyword    10000 non-null  object             \n",
      " 3   user_name  10000 non-null  object             \n",
      " 4   date       10000 non-null  datetime64[ns, UTC]\n",
      " 5   location   10000 non-null  object             \n",
      "dtypes: datetime64[ns, UTC](1), object(5)\n",
      "memory usage: 468.9+ KB\n"
     ]
    }
   ],
   "source": [
    "df.info()"
   ]
  },
  {
   "cell_type": "code",
   "execution_count": 11,
   "metadata": {},
   "outputs": [
    {
     "data": {
      "text/html": [
       "<div>\n",
       "<style scoped>\n",
       "    .dataframe tbody tr th:only-of-type {\n",
       "        vertical-align: middle;\n",
       "    }\n",
       "\n",
       "    .dataframe tbody tr th {\n",
       "        vertical-align: top;\n",
       "    }\n",
       "\n",
       "    .dataframe thead th {\n",
       "        text-align: right;\n",
       "    }\n",
       "</style>\n",
       "<table border=\"1\" class=\"dataframe\">\n",
       "  <thead>\n",
       "    <tr style=\"text-align: right;\">\n",
       "      <th></th>\n",
       "      <th>id</th>\n",
       "      <th>text</th>\n",
       "      <th>keyword</th>\n",
       "      <th>user_name</th>\n",
       "      <th>date</th>\n",
       "      <th>location</th>\n",
       "    </tr>\n",
       "  </thead>\n",
       "  <tbody>\n",
       "    <tr>\n",
       "      <th>0</th>\n",
       "      <td>1241152458912673794</td>\n",
       "      <td>TK Kirkland's Reaction To Earthquake's Ex-Wife...</td>\n",
       "      <td></td>\n",
       "      <td>DarkDon_</td>\n",
       "      <td>2020-03-20 23:59:40+00:00</td>\n",
       "      <td></td>\n",
       "    </tr>\n",
       "    <tr>\n",
       "      <th>1</th>\n",
       "      <td>1241152416214474753</td>\n",
       "      <td>That sound you hear is NOT an earthquake. It’s...</td>\n",
       "      <td></td>\n",
       "      <td>ReallyInID</td>\n",
       "      <td>2020-03-20 23:59:30+00:00</td>\n",
       "      <td></td>\n",
       "    </tr>\n",
       "    <tr>\n",
       "      <th>2</th>\n",
       "      <td>1241152284827856896</td>\n",
       "      <td>he said he stocked up on ammo cause he knew Th...</td>\n",
       "      <td></td>\n",
       "      <td>folsworth</td>\n",
       "      <td>2020-03-20 23:58:58+00:00</td>\n",
       "      <td></td>\n",
       "    </tr>\n",
       "    <tr>\n",
       "      <th>3</th>\n",
       "      <td>1241152178695405570</td>\n",
       "      <td>If an earthquake separates CA, WA, and OR from...</td>\n",
       "      <td></td>\n",
       "      <td>Colony14</td>\n",
       "      <td>2020-03-20 23:58:33+00:00</td>\n",
       "      <td></td>\n",
       "    </tr>\n",
       "    <tr>\n",
       "      <th>4</th>\n",
       "      <td>1241152072818364416</td>\n",
       "      <td>#Sismo M 4 SOUTH OF BALI, #INDONESIA. 20-03-20...</td>\n",
       "      <td>#Sismo #INDONESIA #Temblor #CSEM #EMSC #Earthq...</td>\n",
       "      <td>MonitorSismico</td>\n",
       "      <td>2020-03-20 23:58:08+00:00</td>\n",
       "      <td></td>\n",
       "    </tr>\n",
       "  </tbody>\n",
       "</table>\n",
       "</div>"
      ],
      "text/plain": [
       "                    id                                               text  \\\n",
       "0  1241152458912673794  TK Kirkland's Reaction To Earthquake's Ex-Wife...   \n",
       "1  1241152416214474753  That sound you hear is NOT an earthquake. It’s...   \n",
       "2  1241152284827856896  he said he stocked up on ammo cause he knew Th...   \n",
       "3  1241152178695405570  If an earthquake separates CA, WA, and OR from...   \n",
       "4  1241152072818364416  #Sismo M 4 SOUTH OF BALI, #INDONESIA. 20-03-20...   \n",
       "\n",
       "                                             keyword       user_name  \\\n",
       "0                                                           DarkDon_   \n",
       "1                                                         ReallyInID   \n",
       "2                                                          folsworth   \n",
       "3                                                           Colony14   \n",
       "4  #Sismo #INDONESIA #Temblor #CSEM #EMSC #Earthq...  MonitorSismico   \n",
       "\n",
       "                       date location  \n",
       "0 2020-03-20 23:59:40+00:00           \n",
       "1 2020-03-20 23:59:30+00:00           \n",
       "2 2020-03-20 23:58:58+00:00           \n",
       "3 2020-03-20 23:58:33+00:00           \n",
       "4 2020-03-20 23:58:08+00:00           "
      ]
     },
     "execution_count": 11,
     "metadata": {},
     "output_type": "execute_result"
    }
   ],
   "source": [
    "df.head()"
   ]
  },
  {
   "cell_type": "code",
   "execution_count": 12,
   "metadata": {},
   "outputs": [],
   "source": [
    "# save the results to a csv file\n",
    "\n",
    "df.to_csv('/Users/juhee/Desktop/GA/lsmtmp/juhee/data/earthquakes.csv', index = False)"
   ]
  },
  {
   "cell_type": "code",
   "execution_count": 13,
   "metadata": {},
   "outputs": [],
   "source": [
    "# another earthquake in Ridgecrest on July 4, 2019 and July 5, 2019\n",
    "\n",
    "df = get_old_tweets(hashtag = 'earthquake', since = '2019-07-04', until = '2020-07-06', center = ['Ridgecrest'])"
   ]
  },
  {
   "cell_type": "code",
   "execution_count": 14,
   "metadata": {},
   "outputs": [
    {
     "data": {
      "text/html": [
       "<div>\n",
       "<style scoped>\n",
       "    .dataframe tbody tr th:only-of-type {\n",
       "        vertical-align: middle;\n",
       "    }\n",
       "\n",
       "    .dataframe tbody tr th {\n",
       "        vertical-align: top;\n",
       "    }\n",
       "\n",
       "    .dataframe thead th {\n",
       "        text-align: right;\n",
       "    }\n",
       "</style>\n",
       "<table border=\"1\" class=\"dataframe\">\n",
       "  <thead>\n",
       "    <tr style=\"text-align: right;\">\n",
       "      <th></th>\n",
       "      <th>id</th>\n",
       "      <th>text</th>\n",
       "      <th>keyword</th>\n",
       "      <th>user_name</th>\n",
       "      <th>date</th>\n",
       "      <th>location</th>\n",
       "    </tr>\n",
       "  </thead>\n",
       "  <tbody>\n",
       "    <tr>\n",
       "      <th>0</th>\n",
       "      <td>1279927802381299713</td>\n",
       "      <td>A M1.5 earthquake has been reported by the USG...</td>\n",
       "      <td></td>\n",
       "      <td>quakeupdates</td>\n",
       "      <td>2020-07-05 23:59:02+00:00</td>\n",
       "      <td></td>\n",
       "    </tr>\n",
       "    <tr>\n",
       "      <th>1</th>\n",
       "      <td>1279927794835656704</td>\n",
       "      <td>USGS reports a M1.5 earthquake, 35 km ESE of M...</td>\n",
       "      <td>#earthquake</td>\n",
       "      <td>everyEarthquake</td>\n",
       "      <td>2020-07-05 23:59:00+00:00</td>\n",
       "      <td></td>\n",
       "    </tr>\n",
       "    <tr>\n",
       "      <th>2</th>\n",
       "      <td>1279927679039528961</td>\n",
       "      <td>My money on Baki. His old man stopped an earth...</td>\n",
       "      <td></td>\n",
       "      <td>RicanGuard</td>\n",
       "      <td>2020-07-05 23:58:33+00:00</td>\n",
       "      <td></td>\n",
       "    </tr>\n",
       "    <tr>\n",
       "      <th>3</th>\n",
       "      <td>1279927657199616000</td>\n",
       "      <td>I have those same things. But not for \"earthqu...</td>\n",
       "      <td></td>\n",
       "      <td>DMersault</td>\n",
       "      <td>2020-07-05 23:58:28+00:00</td>\n",
       "      <td></td>\n",
       "    </tr>\n",
       "    <tr>\n",
       "      <th>4</th>\n",
       "      <td>1279927624110751744</td>\n",
       "      <td>Magnitude 1.5 #earthquake, 37.0 km SE of Mina,...</td>\n",
       "      <td>#earthquake</td>\n",
       "      <td>NVEarthquakes</td>\n",
       "      <td>2020-07-05 23:58:20+00:00</td>\n",
       "      <td></td>\n",
       "    </tr>\n",
       "  </tbody>\n",
       "</table>\n",
       "</div>"
      ],
      "text/plain": [
       "                    id                                               text  \\\n",
       "0  1279927802381299713  A M1.5 earthquake has been reported by the USG...   \n",
       "1  1279927794835656704  USGS reports a M1.5 earthquake, 35 km ESE of M...   \n",
       "2  1279927679039528961  My money on Baki. His old man stopped an earth...   \n",
       "3  1279927657199616000  I have those same things. But not for \"earthqu...   \n",
       "4  1279927624110751744  Magnitude 1.5 #earthquake, 37.0 km SE of Mina,...   \n",
       "\n",
       "       keyword        user_name                      date location  \n",
       "0                  quakeupdates 2020-07-05 23:59:02+00:00           \n",
       "1  #earthquake  everyEarthquake 2020-07-05 23:59:00+00:00           \n",
       "2                    RicanGuard 2020-07-05 23:58:33+00:00           \n",
       "3                     DMersault 2020-07-05 23:58:28+00:00           \n",
       "4  #earthquake    NVEarthquakes 2020-07-05 23:58:20+00:00           "
      ]
     },
     "execution_count": 14,
     "metadata": {},
     "output_type": "execute_result"
    }
   ],
   "source": [
    "df.head()"
   ]
  },
  {
   "cell_type": "code",
   "execution_count": 15,
   "metadata": {},
   "outputs": [
    {
     "name": "stdout",
     "output_type": "stream",
     "text": [
      "<class 'pandas.core.frame.DataFrame'>\n",
      "RangeIndex: 10000 entries, 0 to 9999\n",
      "Data columns (total 6 columns):\n",
      " #   Column     Non-Null Count  Dtype              \n",
      "---  ------     --------------  -----              \n",
      " 0   id         10000 non-null  object             \n",
      " 1   text       10000 non-null  object             \n",
      " 2   keyword    10000 non-null  object             \n",
      " 3   user_name  10000 non-null  object             \n",
      " 4   date       10000 non-null  datetime64[ns, UTC]\n",
      " 5   location   10000 non-null  object             \n",
      "dtypes: datetime64[ns, UTC](1), object(5)\n",
      "memory usage: 468.9+ KB\n"
     ]
    }
   ],
   "source": [
    "df.info()"
   ]
  },
  {
   "cell_type": "code",
   "execution_count": 16,
   "metadata": {},
   "outputs": [],
   "source": [
    "# save the results to a csv file\n",
    "\n",
    "df.to_csv('/Users/juhee/Desktop/GA/lsmtmp/juhee/data/ridgecrest.csv', index = False)"
   ]
  },
  {
   "cell_type": "code",
   "execution_count": 17,
   "metadata": {},
   "outputs": [],
   "source": [
    "# run again to collect non-disaster related tweets\n",
    "\n",
    "df = get_old_tweets(hashtag = '', since = '2020-03-18', until = '2020-03-21', center = ['Magna'])"
   ]
  },
  {
   "cell_type": "code",
   "execution_count": 18,
   "metadata": {},
   "outputs": [
    {
     "data": {
      "text/html": [
       "<div>\n",
       "<style scoped>\n",
       "    .dataframe tbody tr th:only-of-type {\n",
       "        vertical-align: middle;\n",
       "    }\n",
       "\n",
       "    .dataframe tbody tr th {\n",
       "        vertical-align: top;\n",
       "    }\n",
       "\n",
       "    .dataframe thead th {\n",
       "        text-align: right;\n",
       "    }\n",
       "</style>\n",
       "<table border=\"1\" class=\"dataframe\">\n",
       "  <thead>\n",
       "    <tr style=\"text-align: right;\">\n",
       "      <th></th>\n",
       "      <th>id</th>\n",
       "      <th>text</th>\n",
       "      <th>keyword</th>\n",
       "      <th>user_name</th>\n",
       "      <th>date</th>\n",
       "      <th>location</th>\n",
       "    </tr>\n",
       "  </thead>\n",
       "  <tbody>\n",
       "    <tr>\n",
       "      <th>0</th>\n",
       "      <td>1241152541284544512</td>\n",
       "      <td>no les pasa que no hay tweet que se les ocurra...</td>\n",
       "      <td></td>\n",
       "      <td>CarlaAlganiaraz</td>\n",
       "      <td>2020-03-20 23:59:59+00:00</td>\n",
       "      <td></td>\n",
       "    </tr>\n",
       "    <tr>\n",
       "      <th>1</th>\n",
       "      <td>1241152541284536322</td>\n",
       "      <td>R4🚩</td>\n",
       "      <td></td>\n",
       "      <td>werdumJr22</td>\n",
       "      <td>2020-03-20 23:59:59+00:00</td>\n",
       "      <td></td>\n",
       "    </tr>\n",
       "    <tr>\n",
       "      <th>2</th>\n",
       "      <td>1241152541284536321</td>\n",
       "      <td>Keep in mind that he says many things that hav...</td>\n",
       "      <td></td>\n",
       "      <td>JoAnnNYNY</td>\n",
       "      <td>2020-03-20 23:59:59+00:00</td>\n",
       "      <td></td>\n",
       "    </tr>\n",
       "    <tr>\n",
       "      <th>3</th>\n",
       "      <td>1241152541280403459</td>\n",
       "      <td>Algunos ganan exageradas sumas, que se sacrifi...</td>\n",
       "      <td></td>\n",
       "      <td>1974bogotano</td>\n",
       "      <td>2020-03-20 23:59:59+00:00</td>\n",
       "      <td></td>\n",
       "    </tr>\n",
       "    <tr>\n",
       "      <th>4</th>\n",
       "      <td>1241152541276213249</td>\n",
       "      <td>Muy bueno Manu. Que pegada la del comentarista</td>\n",
       "      <td></td>\n",
       "      <td>segundoacuna</td>\n",
       "      <td>2020-03-20 23:59:59+00:00</td>\n",
       "      <td></td>\n",
       "    </tr>\n",
       "  </tbody>\n",
       "</table>\n",
       "</div>"
      ],
      "text/plain": [
       "                    id                                               text  \\\n",
       "0  1241152541284544512  no les pasa que no hay tweet que se les ocurra...   \n",
       "1  1241152541284536322                                                R4🚩   \n",
       "2  1241152541284536321  Keep in mind that he says many things that hav...   \n",
       "3  1241152541280403459  Algunos ganan exageradas sumas, que se sacrifi...   \n",
       "4  1241152541276213249     Muy bueno Manu. Que pegada la del comentarista   \n",
       "\n",
       "  keyword        user_name                      date location  \n",
       "0          CarlaAlganiaraz 2020-03-20 23:59:59+00:00           \n",
       "1               werdumJr22 2020-03-20 23:59:59+00:00           \n",
       "2                JoAnnNYNY 2020-03-20 23:59:59+00:00           \n",
       "3             1974bogotano 2020-03-20 23:59:59+00:00           \n",
       "4             segundoacuna 2020-03-20 23:59:59+00:00           "
      ]
     },
     "execution_count": 18,
     "metadata": {},
     "output_type": "execute_result"
    }
   ],
   "source": [
    "df.head()"
   ]
  },
  {
   "cell_type": "code",
   "execution_count": 19,
   "metadata": {},
   "outputs": [],
   "source": [
    "# save the results to a csv file\n",
    "\n",
    "df.to_csv('/Users/juhee/Desktop/GA/lsmtmp/juhee/data/whatever.csv', index = False)"
   ]
  },
  {
   "cell_type": "code",
   "execution_count": 20,
   "metadata": {},
   "outputs": [],
   "source": [
    "# non-disaster related tweets\n",
    "\n",
    "df = get_old_tweets(hashtag = '', since = '2019-07-04', until = '2019-07-06', center = ['Ridgecrest'])"
   ]
  },
  {
   "cell_type": "code",
   "execution_count": 21,
   "metadata": {},
   "outputs": [
    {
     "data": {
      "text/html": [
       "<div>\n",
       "<style scoped>\n",
       "    .dataframe tbody tr th:only-of-type {\n",
       "        vertical-align: middle;\n",
       "    }\n",
       "\n",
       "    .dataframe tbody tr th {\n",
       "        vertical-align: top;\n",
       "    }\n",
       "\n",
       "    .dataframe thead th {\n",
       "        text-align: right;\n",
       "    }\n",
       "</style>\n",
       "<table border=\"1\" class=\"dataframe\">\n",
       "  <thead>\n",
       "    <tr style=\"text-align: right;\">\n",
       "      <th></th>\n",
       "      <th>id</th>\n",
       "      <th>text</th>\n",
       "      <th>keyword</th>\n",
       "      <th>user_name</th>\n",
       "      <th>date</th>\n",
       "      <th>location</th>\n",
       "    </tr>\n",
       "  </thead>\n",
       "  <tbody>\n",
       "    <tr>\n",
       "      <th>0</th>\n",
       "      <td>1147294084094136320</td>\n",
       "      <td>First of all, that’s not true for everyone. I’...</td>\n",
       "      <td></td>\n",
       "      <td>Ashleyy_Raeee</td>\n",
       "      <td>2019-07-05 23:59:59+00:00</td>\n",
       "      <td></td>\n",
       "    </tr>\n",
       "    <tr>\n",
       "      <th>1</th>\n",
       "      <td>1147294084081442817</td>\n",
       "      <td>なんでほんとお前そんなに上手いの、えぐすぎやろ</td>\n",
       "      <td></td>\n",
       "      <td>CHUPACABRA330</td>\n",
       "      <td>2019-07-05 23:59:59+00:00</td>\n",
       "      <td></td>\n",
       "    </tr>\n",
       "    <tr>\n",
       "      <th>2</th>\n",
       "      <td>1147294084081434624</td>\n",
       "      <td>maine huag kng magpauto sa ABS CBN huag mng ga...</td>\n",
       "      <td></td>\n",
       "      <td>pearlbalbuena1</td>\n",
       "      <td>2019-07-05 23:59:59+00:00</td>\n",
       "      <td></td>\n",
       "    </tr>\n",
       "    <tr>\n",
       "      <th>3</th>\n",
       "      <td>1147294084077195265</td>\n",
       "      <td>(*´つ_⊂｀)</td>\n",
       "      <td></td>\n",
       "      <td>akiramikuver</td>\n",
       "      <td>2019-07-05 23:59:59+00:00</td>\n",
       "      <td></td>\n",
       "    </tr>\n",
       "    <tr>\n",
       "      <th>4</th>\n",
       "      <td>1147294084073082880</td>\n",
       "      <td>Ah poto sebelumnya diapus. Ga asik</td>\n",
       "      <td></td>\n",
       "      <td>tommonstertom</td>\n",
       "      <td>2019-07-05 23:59:59+00:00</td>\n",
       "      <td></td>\n",
       "    </tr>\n",
       "  </tbody>\n",
       "</table>\n",
       "</div>"
      ],
      "text/plain": [
       "                    id                                               text  \\\n",
       "0  1147294084094136320  First of all, that’s not true for everyone. I’...   \n",
       "1  1147294084081442817                            なんでほんとお前そんなに上手いの、えぐすぎやろ   \n",
       "2  1147294084081434624  maine huag kng magpauto sa ABS CBN huag mng ga...   \n",
       "3  1147294084077195265                                           (*´つ_⊂｀)   \n",
       "4  1147294084073082880                 Ah poto sebelumnya diapus. Ga asik   \n",
       "\n",
       "  keyword       user_name                      date location  \n",
       "0           Ashleyy_Raeee 2019-07-05 23:59:59+00:00           \n",
       "1           CHUPACABRA330 2019-07-05 23:59:59+00:00           \n",
       "2          pearlbalbuena1 2019-07-05 23:59:59+00:00           \n",
       "3            akiramikuver 2019-07-05 23:59:59+00:00           \n",
       "4           tommonstertom 2019-07-05 23:59:59+00:00           "
      ]
     },
     "execution_count": 21,
     "metadata": {},
     "output_type": "execute_result"
    }
   ],
   "source": [
    "df.head()"
   ]
  },
  {
   "cell_type": "code",
   "execution_count": 22,
   "metadata": {},
   "outputs": [
    {
     "name": "stdout",
     "output_type": "stream",
     "text": [
      "<class 'pandas.core.frame.DataFrame'>\n",
      "RangeIndex: 10000 entries, 0 to 9999\n",
      "Data columns (total 6 columns):\n",
      " #   Column     Non-Null Count  Dtype              \n",
      "---  ------     --------------  -----              \n",
      " 0   id         10000 non-null  object             \n",
      " 1   text       10000 non-null  object             \n",
      " 2   keyword    10000 non-null  object             \n",
      " 3   user_name  10000 non-null  object             \n",
      " 4   date       10000 non-null  datetime64[ns, UTC]\n",
      " 5   location   10000 non-null  object             \n",
      "dtypes: datetime64[ns, UTC](1), object(5)\n",
      "memory usage: 468.9+ KB\n"
     ]
    }
   ],
   "source": [
    "df.info()"
   ]
  },
  {
   "cell_type": "code",
   "execution_count": 23,
   "metadata": {},
   "outputs": [],
   "source": [
    "# save the results to a csv file\n",
    "\n",
    "df.to_csv('/Users/juhee/Desktop/GA/lsmtmp/juhee/data/everything.csv', index = False)"
   ]
  },
  {
   "cell_type": "code",
   "execution_count": null,
   "metadata": {},
   "outputs": [],
   "source": []
  }
 ],
 "metadata": {
  "kernelspec": {
   "display_name": "Python 3",
   "language": "python",
   "name": "python3"
  },
  "language_info": {
   "codemirror_mode": {
    "name": "ipython",
    "version": 3
   },
   "file_extension": ".py",
   "mimetype": "text/x-python",
   "name": "python",
   "nbconvert_exporter": "python",
   "pygments_lexer": "ipython3",
   "version": "3.7.7"
  }
 },
 "nbformat": 4,
 "nbformat_minor": 4
}
